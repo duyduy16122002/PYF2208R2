{
 "cells": [
  {
   "cell_type": "markdown",
   "id": "64636518",
   "metadata": {},
   "source": [
    "Đây là code để in nội dung ra màn hình"
   ]
  },
  {
   "cell_type": "code",
   "execution_count": 3,
   "id": "135ad984",
   "metadata": {
    "scrolled": true
   },
   "outputs": [
    {
     "name": "stdout",
     "output_type": "stream",
     "text": [
      "Hello World\n"
     ]
    }
   ],
   "source": [
    "print('Hello World')"
   ]
  },
  {
   "cell_type": "code",
   "execution_count": 4,
   "id": "f797d456",
   "metadata": {
    "scrolled": true
   },
   "outputs": [
    {
     "name": "stdout",
     "output_type": "stream",
     "text": [
      "PYF2208R2\n"
     ]
    }
   ],
   "source": [
    "print('PYF2208R2')"
   ]
  },
  {
   "cell_type": "code",
   "execution_count": 6,
   "id": "bcf66038",
   "metadata": {},
   "outputs": [
    {
     "name": "stdout",
     "output_type": "stream",
     "text": [
      "Hello World!\n",
      "My name is Duy\n",
      "I'm studying Python Fundamental\n"
     ]
    }
   ],
   "source": [
    "print(\"Hello World!\")\n",
    "print('My name is Duy')\n",
    "print(\"I'm studying Python Fundamental\")"
   ]
  },
  {
   "cell_type": "code",
   "execution_count": null,
   "id": "488baa9f",
   "metadata": {},
   "outputs": [],
   "source": []
  }
 ],
 "metadata": {
  "kernelspec": {
   "display_name": "Python 3 (ipykernel)",
   "language": "python",
   "name": "python3"
  },
  "language_info": {
   "codemirror_mode": {
    "name": "ipython",
    "version": 3
   },
   "file_extension": ".py",
   "mimetype": "text/x-python",
   "name": "python",
   "nbconvert_exporter": "python",
   "pygments_lexer": "ipython3",
   "version": "3.9.12"
  }
 },
 "nbformat": 4,
 "nbformat_minor": 5
}
